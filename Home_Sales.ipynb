{
  "cells": [
    {
      "cell_type": "markdown",
      "metadata": {
        "id": "view-in-github",
        "colab_type": "text"
      },
      "source": [
        "<a href=\"https://colab.research.google.com/github/njgeorge000158/Home_Sales/blob/main/Home_Sales.ipynb\" target=\"_parent\"><img src=\"https://colab.research.google.com/assets/colab-badge.svg\" alt=\"Open In Colab\"/></a>"
      ]
    },
    {
      "cell_type": "code",
      "execution_count": 1,
      "metadata": {
        "colab": {
          "base_uri": "https://localhost:8080/"
        },
        "id": "a_KW73O2e3dw",
        "outputId": "92a19383-eb9e-41ad-c0eb-e2941c37ae2a"
      },
      "outputs": [
        {
          "output_type": "stream",
          "name": "stdout",
          "text": [
            "\r0% [Working]\r            \rHit:1 http://security.ubuntu.com/ubuntu jammy-security InRelease\n",
            "\r0% [Waiting for headers] [Connecting to cloud.r-project.org] [Connected to ppa.launchpadcontent.net \r                                                                                                    \rHit:2 http://archive.ubuntu.com/ubuntu jammy InRelease\n",
            "\r0% [Waiting for headers] [Connecting to cloud.r-project.org] [Connected to ppa.launchpadcontent.net \r                                                                                                    \rHit:3 http://archive.ubuntu.com/ubuntu jammy-updates InRelease\n",
            "\r0% [Waiting for headers] [Connecting to cloud.r-project.org] [Connected to ppa.launchpadcontent.net \r                                                                                                    \rHit:4 http://archive.ubuntu.com/ubuntu jammy-backports InRelease\n",
            "\r0% [Connecting to cloud.r-project.org] [Connected to ppa.launchpadcontent.net (185.125.190.80)] [Con\r                                                                                                    \rHit:5 https://developer.download.nvidia.com/compute/cuda/repos/ubuntu2204/x86_64  InRelease\n",
            "\r                                                                                                    \r0% [Connecting to cloud.r-project.org] [Waiting for headers]\r                                                            \rHit:6 https://ppa.launchpadcontent.net/c2d4u.team/c2d4u4.0+/ubuntu jammy InRelease\n",
            "\r0% [Connected to cloud.r-project.org (18.239.18.73)] [Waiting for headers]\r                                                                          \rHit:7 https://ppa.launchpadcontent.net/deadsnakes/ppa/ubuntu jammy InRelease\n",
            "\r0% [Connected to cloud.r-project.org (18.239.18.73)] [Waiting for headers]\r                                                                          \rHit:8 https://ppa.launchpadcontent.net/graphics-drivers/ppa/ubuntu jammy InRelease\n",
            "\r0% [Connected to cloud.r-project.org (18.239.18.73)] [Waiting for headers]\r                                                                          \rHit:9 https://cloud.r-project.org/bin/linux/ubuntu jammy-cran40/ InRelease\n",
            "Hit:10 https://ppa.launchpadcontent.net/ubuntugis/ppa/ubuntu jammy InRelease\n",
            "Reading package lists... Done\n"
          ]
        }
      ],
      "source": [
        "#*******************************************************************************************\n",
        " #\n",
        " #  File Name:  HomeSalesColab.ipynb\n",
        " #\n",
        " #  File Description:\n",
        " #      This interactive Python notebook, HomeSalesColab.ipynb, uses SparkSQL\n",
        " #      to determine key metrics about home sales data.\n",
        " #\n",
        " #\n",
        " #  Date            Description                             Programmer\n",
        " #  ----------      ------------------------------------    ------------------\n",
        " #  11/25/2023      Initial Development                     N. James George\n",
        " #\n",
        " #******************************************************************************************/\n",
        "\n",
        "import os\n",
        "import time\n",
        "\n",
        "sparkVersionString \\\n",
        "    = 'spark-3.5.0'\n",
        "\n",
        "os.environ['SPARK_VERSION'] \\\n",
        "    = sparkVersionString\n",
        "\n",
        "\n",
        "# These commands install Apache Spark and Java.\n",
        "!apt-get update\n",
        "!apt-get install openjdk-11-jdk-headless -qq > /dev/null\n",
        "!wget -q http://www.apache.org/dist/spark/$SPARK_VERSION/$SPARK_VERSION-bin-hadoop3.tgz\n",
        "!tar xf $SPARK_VERSION-bin-hadoop3.tgz\n",
        "!pip install -q findspark\n",
        "\n",
        "\n",
        "# These lines of code set the environmental variables.\n",
        "os.environ['JAVA_HOME'] \\\n",
        "    = '/usr/lib/jvm/java-11-openjdk-amd64'\n",
        "\n",
        "os.environ['SPARK_HOME'] \\\n",
        "    = f'/content/{sparkVersionString}-bin-hadoop3'"
      ]
    },
    {
      "cell_type": "code",
      "execution_count": 2,
      "metadata": {
        "id": "2XbWNf1Te5fM"
      },
      "outputs": [],
      "source": [
        "import findspark\n",
        "findspark.init()\n",
        "\n",
        "from pyspark import SparkFiles\n",
        "from pyspark.sql import SparkSession\n",
        "from pyspark.sql.functions import round, avg\n",
        "\n",
        "# This line of code creates a Spark Session.\n",
        "currentSparkSession \\\n",
        "    = SparkSession.builder.appName('SparkSQL').getOrCreate()"
      ]
    },
    {
      "cell_type": "code",
      "execution_count": 3,
      "metadata": {
        "id": "wOJqxG_RPSwp",
        "colab": {
          "base_uri": "https://localhost:8080/"
        },
        "outputId": "99291681-32cb-4e40-d098-0d0e61e34911"
      },
      "outputs": [
        {
          "output_type": "stream",
          "name": "stdout",
          "text": [
            "+--------------------+----------+----------+------+--------+---------+-----------+--------+------+----------+----+\n",
            "|                  id|      date|date_built| price|bedrooms|bathrooms|sqft_living|sqft_lot|floors|waterfront|view|\n",
            "+--------------------+----------+----------+------+--------+---------+-----------+--------+------+----------+----+\n",
            "|f8a53099-ba1c-47d...|2022-04-08|      2016|936923|       4|        3|       3167|   11733|     2|         1|  76|\n",
            "|7530a2d8-1ae3-451...|2021-06-13|      2013|379628|       2|        2|       2235|   14384|     1|         0|  23|\n",
            "|43de979c-0bf0-4c9...|2019-04-12|      2014|417866|       2|        2|       2127|   10575|     2|         0|   0|\n",
            "|b672c137-b88c-48b...|2019-10-16|      2016|239895|       2|        2|       1631|   11149|     2|         0|   0|\n",
            "|e0726d4d-d595-407...|2022-01-08|      2017|424418|       3|        2|       2249|   13878|     2|         0|   4|\n",
            "|5aa00529-0533-46b...|2019-01-30|      2017|218712|       2|        3|       1965|   14375|     2|         0|   7|\n",
            "|131492a1-72e2-4a8...|2020-02-08|      2017|419199|       2|        3|       2062|    8876|     2|         0|   6|\n",
            "|8d54a71b-c520-44e...|2019-07-21|      2010|323956|       2|        3|       1506|   11816|     1|         0|  25|\n",
            "|e81aacfe-17fe-46b...|2020-06-16|      2016|181925|       3|        3|       2137|   11709|     2|         0|  22|\n",
            "|2ed8d509-7372-46d...|2021-08-06|      2015|258710|       3|        3|       1918|    9666|     1|         0|  25|\n",
            "|f876d86f-3c9f-42b...|2019-02-27|      2011|167864|       3|        3|       2471|   13924|     2|         0|  15|\n",
            "|0a2bd445-8508-4d8...|2021-12-30|      2014|337527|       2|        3|       1926|   12556|     1|         0|  23|\n",
            "|941bad30-eb49-4a7...|2020-05-09|      2015|229896|       3|        3|       2197|    8641|     1|         0|   3|\n",
            "|dd61eb34-6589-4c0...|2021-07-25|      2016|210247|       3|        2|       1672|   11986|     2|         0|  28|\n",
            "|f1e4cef7-d151-439...|2019-02-01|      2011|398667|       2|        3|       2331|   11356|     1|         0|   7|\n",
            "|ea620c7b-c2f7-4c6...|2021-05-31|      2011|437958|       3|        3|       2356|   11052|     1|         0|  26|\n",
            "|f233cb41-6f33-4b0...|2021-07-18|      2016|437375|       4|        3|       1704|   11721|     2|         0|  34|\n",
            "|c797ca12-52cd-4b1...|2019-06-08|      2015|288650|       2|        3|       2100|   10419|     2|         0|   7|\n",
            "|0cfe57f3-28c2-472...|2019-10-04|      2015|308313|       3|        3|       1960|    9453|     2|         0|   2|\n",
            "|4566cd2a-ac6e-435...|2019-07-15|      2016|177541|       3|        3|       2130|   10517|     2|         0|  25|\n",
            "+--------------------+----------+----------+------+--------+---------+-----------+--------+------+----------+----+\n",
            "only showing top 20 rows\n",
            "\n"
          ]
        }
      ],
      "source": [
        "# 1. Read in the AWS S3 bucket into a DataFrame.\n",
        "\n",
        "urlString \\\n",
        "  = 'https://2u-data-curriculum-team.s3.amazonaws.com/dataviz-classroom/v1.2/22-big-data/home_sales_revised.csv'\n",
        "\n",
        "currentSparkSession.sparkContext.addFile(urlString)\n",
        "\n",
        "homeSalesDataFrame \\\n",
        "    = currentSparkSession.read.csv \\\n",
        "          (SparkFiles.get('home_sales_revised.csv'),\n",
        "           sep = ',',\n",
        "           header = True)\n",
        "\n",
        "homeSalesDataFrame.show()"
      ]
    },
    {
      "cell_type": "code",
      "source": [
        "# This line of code prints the table schema.\n",
        "homeSalesDataFrame.printSchema()"
      ],
      "metadata": {
        "colab": {
          "base_uri": "https://localhost:8080/"
        },
        "id": "I6O93Ku3eJmQ",
        "outputId": "15dc2fab-e7f2-487b-8833-bd563b876440"
      },
      "execution_count": 4,
      "outputs": [
        {
          "output_type": "stream",
          "name": "stdout",
          "text": [
            "root\n",
            " |-- id: string (nullable = true)\n",
            " |-- date: string (nullable = true)\n",
            " |-- date_built: string (nullable = true)\n",
            " |-- price: string (nullable = true)\n",
            " |-- bedrooms: string (nullable = true)\n",
            " |-- bathrooms: string (nullable = true)\n",
            " |-- sqft_living: string (nullable = true)\n",
            " |-- sqft_lot: string (nullable = true)\n",
            " |-- floors: string (nullable = true)\n",
            " |-- waterfront: string (nullable = true)\n",
            " |-- view: string (nullable = true)\n",
            "\n"
          ]
        }
      ]
    },
    {
      "cell_type": "markdown",
      "source": [],
      "metadata": {
        "id": "lh_FXQ6CYRrL"
      }
    },
    {
      "cell_type": "code",
      "execution_count": 5,
      "metadata": {
        "id": "RoljcJ7WPpnm",
        "colab": {
          "base_uri": "https://localhost:8080/"
        },
        "outputId": "a095d15a-cfd2-49dd-dee3-8bb79c1ad7ef"
      },
      "outputs": [
        {
          "output_type": "stream",
          "name": "stdout",
          "text": [
            "<class 'pandas.core.frame.DataFrame'>\n",
            "RangeIndex: 33287 entries, 0 to 33286\n",
            "Data columns (total 11 columns):\n",
            " #   Column       Non-Null Count  Dtype \n",
            "---  ------       --------------  ----- \n",
            " 0   id           33287 non-null  object\n",
            " 1   date         33287 non-null  object\n",
            " 2   date_built   33287 non-null  object\n",
            " 3   price        33287 non-null  object\n",
            " 4   bedrooms     33287 non-null  object\n",
            " 5   bathrooms    33287 non-null  object\n",
            " 6   sqft_living  33287 non-null  object\n",
            " 7   sqft_lot     33287 non-null  object\n",
            " 8   floors       33287 non-null  object\n",
            " 9   waterfront   33287 non-null  object\n",
            " 10  view         33287 non-null  object\n",
            "dtypes: object(11)\n",
            "memory usage: 2.8+ MB\n"
          ]
        }
      ],
      "source": [
        "# This line of code prints the column names and data types.\n",
        "homeSalesDataFrame.toPandas().info()"
      ]
    },
    {
      "cell_type": "code",
      "source": [
        "# 2. Create a temporary view of the DataFrame.\n",
        "\n",
        "homeSalesDataFrame.createOrReplaceTempView('home_sales')\n",
        "\n",
        "currentSparkSession.sql('SELECT * FROM home_sales').show()"
      ],
      "metadata": {
        "colab": {
          "base_uri": "https://localhost:8080/"
        },
        "id": "cgZ4xd65d7vN",
        "outputId": "4a87fc08-d3c7-4b03-ab94-66c65ea64d47"
      },
      "execution_count": 6,
      "outputs": [
        {
          "output_type": "stream",
          "name": "stdout",
          "text": [
            "+--------------------+----------+----------+------+--------+---------+-----------+--------+------+----------+----+\n",
            "|                  id|      date|date_built| price|bedrooms|bathrooms|sqft_living|sqft_lot|floors|waterfront|view|\n",
            "+--------------------+----------+----------+------+--------+---------+-----------+--------+------+----------+----+\n",
            "|f8a53099-ba1c-47d...|2022-04-08|      2016|936923|       4|        3|       3167|   11733|     2|         1|  76|\n",
            "|7530a2d8-1ae3-451...|2021-06-13|      2013|379628|       2|        2|       2235|   14384|     1|         0|  23|\n",
            "|43de979c-0bf0-4c9...|2019-04-12|      2014|417866|       2|        2|       2127|   10575|     2|         0|   0|\n",
            "|b672c137-b88c-48b...|2019-10-16|      2016|239895|       2|        2|       1631|   11149|     2|         0|   0|\n",
            "|e0726d4d-d595-407...|2022-01-08|      2017|424418|       3|        2|       2249|   13878|     2|         0|   4|\n",
            "|5aa00529-0533-46b...|2019-01-30|      2017|218712|       2|        3|       1965|   14375|     2|         0|   7|\n",
            "|131492a1-72e2-4a8...|2020-02-08|      2017|419199|       2|        3|       2062|    8876|     2|         0|   6|\n",
            "|8d54a71b-c520-44e...|2019-07-21|      2010|323956|       2|        3|       1506|   11816|     1|         0|  25|\n",
            "|e81aacfe-17fe-46b...|2020-06-16|      2016|181925|       3|        3|       2137|   11709|     2|         0|  22|\n",
            "|2ed8d509-7372-46d...|2021-08-06|      2015|258710|       3|        3|       1918|    9666|     1|         0|  25|\n",
            "|f876d86f-3c9f-42b...|2019-02-27|      2011|167864|       3|        3|       2471|   13924|     2|         0|  15|\n",
            "|0a2bd445-8508-4d8...|2021-12-30|      2014|337527|       2|        3|       1926|   12556|     1|         0|  23|\n",
            "|941bad30-eb49-4a7...|2020-05-09|      2015|229896|       3|        3|       2197|    8641|     1|         0|   3|\n",
            "|dd61eb34-6589-4c0...|2021-07-25|      2016|210247|       3|        2|       1672|   11986|     2|         0|  28|\n",
            "|f1e4cef7-d151-439...|2019-02-01|      2011|398667|       2|        3|       2331|   11356|     1|         0|   7|\n",
            "|ea620c7b-c2f7-4c6...|2021-05-31|      2011|437958|       3|        3|       2356|   11052|     1|         0|  26|\n",
            "|f233cb41-6f33-4b0...|2021-07-18|      2016|437375|       4|        3|       1704|   11721|     2|         0|  34|\n",
            "|c797ca12-52cd-4b1...|2019-06-08|      2015|288650|       2|        3|       2100|   10419|     2|         0|   7|\n",
            "|0cfe57f3-28c2-472...|2019-10-04|      2015|308313|       3|        3|       1960|    9453|     2|         0|   2|\n",
            "|4566cd2a-ac6e-435...|2019-07-15|      2016|177541|       3|        3|       2130|   10517|     2|         0|  25|\n",
            "+--------------------+----------+----------+------+--------+---------+-----------+--------+------+----------+----+\n",
            "only showing top 20 rows\n",
            "\n"
          ]
        }
      ]
    },
    {
      "cell_type": "code",
      "execution_count": 7,
      "metadata": {
        "id": "L6fkwOeOmqvq",
        "colab": {
          "base_uri": "https://localhost:8080/"
        },
        "outputId": "00fa737a-e31a-446f-e1e6-10424c3a3195"
      },
      "outputs": [
        {
          "output_type": "stream",
          "name": "stdout",
          "text": [
            "+----+-------------+\n",
            "|year|average_price|\n",
            "+----+-------------+\n",
            "|2022|    296363.88|\n",
            "|2021|    301819.44|\n",
            "|2020|    298353.78|\n",
            "|2019|     300263.7|\n",
            "+----+-------------+\n",
            "\n"
          ]
        }
      ],
      "source": [
        "# 3. What is the average price for a four bedroom house sold in each year\n",
        "# rounded to two decimal places?\n",
        "\n",
        "queryString \\\n",
        "  = \"\"\"SELECT YEAR(date) AS year,\n",
        "       ROUND(AVG(price), 2) AS average_price\n",
        "       FROM home_sales\n",
        "       WHERE bedrooms == 4\n",
        "       GROUP BY year\n",
        "       ORDER BY year DESC\"\"\"\n",
        "\n",
        "currentSparkSession.sql(queryString).show()"
      ]
    },
    {
      "cell_type": "code",
      "execution_count": 8,
      "metadata": {
        "id": "l8p_tUS8h8it",
        "colab": {
          "base_uri": "https://localhost:8080/"
        },
        "outputId": "940f036f-5670-41c7-f36d-c52fea02eb93"
      },
      "outputs": [
        {
          "output_type": "stream",
          "name": "stdout",
          "text": [
            "+----------+-------------+\n",
            "|year_built|average_price|\n",
            "+----------+-------------+\n",
            "|      2017|    292676.79|\n",
            "|      2016|    290555.07|\n",
            "|      2015|     288770.3|\n",
            "|      2014|    290852.27|\n",
            "|      2013|    295962.27|\n",
            "|      2012|    293683.19|\n",
            "|      2011|    291117.47|\n",
            "|      2010|    292859.62|\n",
            "+----------+-------------+\n",
            "\n"
          ]
        }
      ],
      "source": [
        "# 4. What is the average price of a home for each year the home was built\n",
        "# that have 3 bedrooms and 3 bathrooms rounded to two decimal places?\n",
        "\n",
        "queryString \\\n",
        "  = \"\"\"SELECT YEAR(date_built) AS year_built,\n",
        "       ROUND(AVG(price), 2) AS average_price\n",
        "       FROM home_sales\n",
        "       WHERE bedrooms == 3\n",
        "          AND bathrooms == 3\n",
        "       GROUP BY year_built\n",
        "       ORDER BY year_built DESC\"\"\"\n",
        "\n",
        "currentSparkSession.sql(queryString).show()"
      ]
    },
    {
      "cell_type": "code",
      "execution_count": 9,
      "metadata": {
        "id": "Y-Eytz64liDU",
        "colab": {
          "base_uri": "https://localhost:8080/"
        },
        "outputId": "87a9eab1-7407-4bda-ce86-1c4b92ae78f8"
      },
      "outputs": [
        {
          "output_type": "stream",
          "name": "stdout",
          "text": [
            "+----------+-------------+\n",
            "|year_built|average_price|\n",
            "+----------+-------------+\n",
            "|      2017|    280317.58|\n",
            "|      2016|     293965.1|\n",
            "|      2015|    297609.97|\n",
            "|      2014|    298264.72|\n",
            "|      2013|    303676.79|\n",
            "|      2012|    307539.97|\n",
            "|      2011|    276553.81|\n",
            "|      2010|    285010.22|\n",
            "+----------+-------------+\n",
            "\n"
          ]
        }
      ],
      "source": [
        "# 5. What is the average price of a home for each year built that has 3 bedrooms,\n",
        "# 3 bathrooms, with two floors, and are greater than or equal to 2,000 square feet\n",
        "# rounded to two decimal places?\n",
        "\n",
        "queryString \\\n",
        "  = \"\"\"SELECT YEAR(date_built) AS year_built,\n",
        "       ROUND(AVG(price), 2) AS average_price\n",
        "       FROM home_sales\n",
        "       WHERE bedrooms == 3\n",
        "          AND bathrooms == 3\n",
        "          AND floors == 2\n",
        "          AND sqft_living >= 2000\n",
        "       GROUP BY year_built\n",
        "       ORDER BY year_built DESC\"\"\"\n",
        "\n",
        "currentSparkSession.sql(queryString).show()"
      ]
    },
    {
      "cell_type": "code",
      "execution_count": 10,
      "metadata": {
        "colab": {
          "base_uri": "https://localhost:8080/"
        },
        "id": "GUrfgOX1pCRd",
        "outputId": "84f4e06f-beb2-4fab-a56b-fa52b4e717e8"
      },
      "outputs": [
        {
          "output_type": "stream",
          "name": "stdout",
          "text": [
            "+----+-------------+\n",
            "|view|average_price|\n",
            "+----+-------------+\n",
            "|  99|   1061201.42|\n",
            "|  98|   1053739.33|\n",
            "|  97|   1129040.15|\n",
            "|  96|   1017815.92|\n",
            "|  95|    1054325.6|\n",
            "|  94|    1033536.2|\n",
            "|  93|   1026006.06|\n",
            "|  92|    970402.55|\n",
            "|  91|   1137372.73|\n",
            "|  90|   1062654.16|\n",
            "|  89|   1107839.15|\n",
            "|  88|   1031719.35|\n",
            "|  87|    1072285.2|\n",
            "|  86|   1070444.25|\n",
            "|  85|   1056336.74|\n",
            "|  84|   1117233.13|\n",
            "|  83|   1033965.93|\n",
            "|  82|    1063498.0|\n",
            "|  81|   1053472.79|\n",
            "|  80|    991767.38|\n",
            "+----+-------------+\n",
            "only showing top 20 rows\n",
            "\n",
            "--- 1.1227097511291504 seconds ---\n"
          ]
        }
      ],
      "source": [
        "# 6. What is the \"view\" rating for the average price of a home, rounded to two\n",
        "# decimal places, where the homes are greater than or equal to $350,000?\n",
        "# Although this is a small dataset, determine the run time for this query.\n",
        "\n",
        "startTimeFloat = time.time()\n",
        "\n",
        "queryString \\\n",
        "  = \"\"\"SELECT view, ROUND(AVG(price), 2) AS average_price\n",
        "       FROM home_sales\n",
        "       GROUP BY view\n",
        "       HAVING AVG(price) >= 350000\n",
        "       ORDER BY view DESC\"\"\"\n",
        "\n",
        "currentSparkSession.sql(queryString).show()\n",
        "\n",
        "print(\"--- %s seconds ---\" % (time.time() - startTimeFloat))"
      ]
    },
    {
      "cell_type": "code",
      "execution_count": 11,
      "metadata": {
        "id": "KAhk3ZD2tFy8",
        "colab": {
          "base_uri": "https://localhost:8080/"
        },
        "outputId": "c14a53d3-ee61-4647-8d01-7945b627f42e"
      },
      "outputs": [
        {
          "output_type": "execute_result",
          "data": {
            "text/plain": [
              "DataFrame[]"
            ]
          },
          "metadata": {},
          "execution_count": 11
        }
      ],
      "source": [
        "# 7. Cache the the temporary table home_sales.\n",
        "\n",
        "currentSparkSession.sql('cache table home_sales')"
      ]
    },
    {
      "cell_type": "code",
      "execution_count": 12,
      "metadata": {
        "id": "4opVhbvxtL-i",
        "colab": {
          "base_uri": "https://localhost:8080/"
        },
        "outputId": "3daaeb22-3927-4c23-bee5-4a18006a8cd8"
      },
      "outputs": [
        {
          "output_type": "execute_result",
          "data": {
            "text/plain": [
              "True"
            ]
          },
          "metadata": {},
          "execution_count": 12
        }
      ],
      "source": [
        "# 8. Check if the table is cached.\n",
        "\n",
        "currentSparkSession.catalog.isCached('home_sales')"
      ]
    },
    {
      "cell_type": "code",
      "execution_count": 13,
      "metadata": {
        "colab": {
          "base_uri": "https://localhost:8080/"
        },
        "id": "5GnL46lwTSEk",
        "outputId": "76a76f90-15a5-4820-8e11-9ecac81770d3"
      },
      "outputs": [
        {
          "output_type": "stream",
          "name": "stdout",
          "text": [
            "+----+-------------+\n",
            "|view|average_price|\n",
            "+----+-------------+\n",
            "|  99|   1061201.42|\n",
            "|  98|   1053739.33|\n",
            "|  97|   1129040.15|\n",
            "|  96|   1017815.92|\n",
            "|  95|    1054325.6|\n",
            "|  94|    1033536.2|\n",
            "|  93|   1026006.06|\n",
            "|  92|    970402.55|\n",
            "|  91|   1137372.73|\n",
            "|  90|   1062654.16|\n",
            "|  89|   1107839.15|\n",
            "|  88|   1031719.35|\n",
            "|  87|    1072285.2|\n",
            "|  86|   1070444.25|\n",
            "|  85|   1056336.74|\n",
            "|  84|   1117233.13|\n",
            "|  83|   1033965.93|\n",
            "|  82|    1063498.0|\n",
            "|  81|   1053472.79|\n",
            "|  80|    991767.38|\n",
            "+----+-------------+\n",
            "only showing top 20 rows\n",
            "\n",
            "--- 0.7347908020019531 seconds ---\n"
          ]
        }
      ],
      "source": [
        "# 9. Using the cached data, run the query that filters out the view ratings\n",
        "# with average price greater than or equal to $350,000. Determine the\n",
        "# runtime and compare it to uncached runtime.\n",
        "\n",
        "startTimeFloat = time.time()\n",
        "\n",
        "queryString \\\n",
        "  = \"\"\"SELECT view, ROUND(AVG(price), 2) AS average_price\n",
        "       FROM home_sales\n",
        "       GROUP BY view\n",
        "       HAVING AVG(price) >= 350000\n",
        "       ORDER BY view DESC\"\"\"\n",
        "\n",
        "currentSparkSession.sql(queryString).show()\n",
        "\n",
        "print(\"--- %s seconds ---\" % (time.time() - startTimeFloat))"
      ]
    },
    {
      "cell_type": "code",
      "source": [
        "print('The cached runtime, 0.735 seconds, is shorter than the uncached runtime, 1.123 seconds')"
      ],
      "metadata": {
        "colab": {
          "base_uri": "https://localhost:8080/"
        },
        "id": "vq1nLZ5ynK56",
        "outputId": "2d7d9d0a-c7a1-4c03-df63-74ca6d384176"
      },
      "execution_count": 23,
      "outputs": [
        {
          "output_type": "stream",
          "name": "stdout",
          "text": [
            "The cached runtime, 0.735 seconds, is shorter than the uncached runtime, 1.123 seconds\n"
          ]
        }
      ]
    },
    {
      "cell_type": "code",
      "execution_count": 15,
      "metadata": {
        "id": "Qm12WN9isHBR"
      },
      "outputs": [],
      "source": [
        "# 10. Partition by the \"date_built\" field on the formatted parquet home sales data.\n",
        "\n",
        "homeSalesDataFrame.write.partitionBy('date_built').mode('overwrite').parquet('p_home_sales')"
      ]
    },
    {
      "cell_type": "code",
      "execution_count": 16,
      "metadata": {
        "id": "AZ7BgY61sRqY"
      },
      "outputs": [],
      "source": [
        "# 11. Read the parquet formatted data.\n",
        "\n",
        "parquetFormattedDataFrame = currentSparkSession.read.parquet('p_home_sales')"
      ]
    },
    {
      "cell_type": "code",
      "execution_count": 17,
      "metadata": {
        "id": "J6MJkHfvVcvh"
      },
      "outputs": [],
      "source": [
        "# 12. Create a temporary table for the parquet data.\n",
        "\n",
        "parquetFormattedDataFrame.createOrReplaceTempView('parquet_home_sales')"
      ]
    },
    {
      "cell_type": "code",
      "source": [
        "# 13. Run the query that filters out the view ratings with average price\n",
        "# of greater than or equal to $350,000 with the parquet DataFrame. Round\n",
        "# your average to two decimal places. Determine the runtime and compare\n",
        "# it to the cached version.\n",
        "startTimeFloat = time.time()\n",
        "\n",
        "queryString \\\n",
        "  = \"\"\"SELECT view, ROUND(AVG(price), 2) AS average_price\n",
        "       FROM parquet_home_sales\n",
        "       GROUP BY view\n",
        "       HAVING AVG(price) >= 350000\n",
        "       ORDER BY view DESC\"\"\"\n",
        "\n",
        "currentSparkSession.sql(queryString).show()\n",
        "\n",
        "print(\"--- %s seconds ---\" % (time.time() - startTimeFloat))"
      ],
      "metadata": {
        "colab": {
          "base_uri": "https://localhost:8080/"
        },
        "id": "EMWWVzK_KVts",
        "outputId": "1af27d96-ed1d-4016-edae-77f75a6750bd"
      },
      "execution_count": 18,
      "outputs": [
        {
          "output_type": "stream",
          "name": "stdout",
          "text": [
            "+----+-------------+\n",
            "|view|average_price|\n",
            "+----+-------------+\n",
            "|  99|   1061201.42|\n",
            "|  98|   1053739.33|\n",
            "|  97|   1129040.15|\n",
            "|  96|   1017815.92|\n",
            "|  95|    1054325.6|\n",
            "|  94|    1033536.2|\n",
            "|  93|   1026006.06|\n",
            "|  92|    970402.55|\n",
            "|  91|   1137372.73|\n",
            "|  90|   1062654.16|\n",
            "|  89|   1107839.15|\n",
            "|  88|   1031719.35|\n",
            "|  87|    1072285.2|\n",
            "|  86|   1070444.25|\n",
            "|  85|   1056336.74|\n",
            "|  84|   1117233.13|\n",
            "|  83|   1033965.93|\n",
            "|  82|    1063498.0|\n",
            "|  81|   1053472.79|\n",
            "|  80|    991767.38|\n",
            "+----+-------------+\n",
            "only showing top 20 rows\n",
            "\n",
            "--- 1.6975457668304443 seconds ---\n"
          ]
        }
      ]
    },
    {
      "cell_type": "code",
      "execution_count": 19,
      "metadata": {
        "colab": {
          "base_uri": "https://localhost:8080/"
        },
        "id": "G_Vhb52rU1Sn",
        "outputId": "d14994cf-1788-45e8-ac10-e0a2102f0eb3"
      },
      "outputs": [
        {
          "output_type": "stream",
          "name": "stdout",
          "text": [
            "+----+-------------+\n",
            "|view|average_price|\n",
            "+----+-------------+\n",
            "|  99|   1061201.42|\n",
            "|  98|   1053739.33|\n",
            "|  97|   1129040.15|\n",
            "|  96|   1017815.92|\n",
            "|  95|    1054325.6|\n",
            "|  94|    1033536.2|\n",
            "|  93|   1026006.06|\n",
            "|  92|    970402.55|\n",
            "|  91|   1137372.73|\n",
            "|  90|   1062654.16|\n",
            "|   9|    401393.34|\n",
            "|  89|   1107839.15|\n",
            "|  88|   1031719.35|\n",
            "|  87|    1072285.2|\n",
            "|  86|   1070444.25|\n",
            "|  85|   1056336.74|\n",
            "|  84|   1117233.13|\n",
            "|  83|   1033965.93|\n",
            "|  82|    1063498.0|\n",
            "|  81|   1053472.79|\n",
            "+----+-------------+\n",
            "only showing top 20 rows\n",
            "\n",
            "--- 1.8456358909606934 seconds ---\n"
          ]
        }
      ],
      "source": [
        "startTimeFloat = time.time()\n",
        "\n",
        "filteredParquetHousesDataFrame \\\n",
        "    = parquetFormattedDataFrame.filter(parquetFormattedDataFrame.price >= 350000)\n",
        "\n",
        "averagePricesDataFrame \\\n",
        "    = filteredParquetHousesDataFrame.groupBy('view') \\\n",
        "          .agg(round(avg('price'), 2) \\\n",
        "          .alias('average_price')) \\\n",
        "          .sort(filteredParquetHousesDataFrame.view.desc())\n",
        "\n",
        "averagePricesDataFrame.show()\n",
        "\n",
        "print(\"--- %s seconds ---\" % (time.time() - startTimeFloat))"
      ]
    },
    {
      "cell_type": "code",
      "source": [
        "print('The uncached runtime, 1.123 seconds, is shorter than the runtime for the parquet data, 1.698 seconds')"
      ],
      "metadata": {
        "colab": {
          "base_uri": "https://localhost:8080/"
        },
        "id": "CKDoCmSHx5Jy",
        "outputId": "9a82b729-e8f4-496a-a20e-2e1778edbdff"
      },
      "execution_count": 24,
      "outputs": [
        {
          "output_type": "stream",
          "name": "stdout",
          "text": [
            "The uncached runtime, 1.123 seconds, is shorter than the runtime for the parquet data, 1.698 seconds\n"
          ]
        }
      ]
    },
    {
      "cell_type": "code",
      "execution_count": 21,
      "metadata": {
        "id": "hjjYzQGjtbq8",
        "colab": {
          "base_uri": "https://localhost:8080/"
        },
        "outputId": "36244e74-dd7e-49bc-be42-057d6fe179b5"
      },
      "outputs": [
        {
          "output_type": "execute_result",
          "data": {
            "text/plain": [
              "DataFrame[]"
            ]
          },
          "metadata": {},
          "execution_count": 21
        }
      ],
      "source": [
        "# 14. Uncache the home_sales temporary table.\n",
        "\n",
        "currentSparkSession.sql('uncache table home_sales')"
      ]
    },
    {
      "cell_type": "code",
      "execution_count": 22,
      "metadata": {
        "id": "Sy9NBvO7tlmm",
        "colab": {
          "base_uri": "https://localhost:8080/"
        },
        "outputId": "18fc640c-b20f-4424-f8b7-927e82ba4faa"
      },
      "outputs": [
        {
          "output_type": "stream",
          "name": "stdout",
          "text": [
            "The table, home_sales, is NOT cached.\n"
          ]
        }
      ],
      "source": [
        "# 15. Check if the home_sales is no longer cached.\n",
        "\n",
        "if currentSparkSession.catalog.isCached('home_sales'):\n",
        "\n",
        "  print('The table, home_sales, is cached.')\n",
        "\n",
        "else:\n",
        "\n",
        "  print('The table, home_sales, is NOT cached.')"
      ]
    }
  ],
  "metadata": {
    "colab": {
      "provenance": [],
      "include_colab_link": true
    },
    "gpuClass": "standard",
    "kernelspec": {
      "display_name": "Python 3 (ipykernel)",
      "language": "python",
      "name": "python3"
    },
    "language_info": {
      "codemirror_mode": {
        "name": "ipython",
        "version": 3
      },
      "file_extension": ".py",
      "mimetype": "text/x-python",
      "name": "python",
      "nbconvert_exporter": "python",
      "pygments_lexer": "ipython3",
      "version": "3.11.5"
    },
    "nteract": {
      "version": "0.28.0"
    }
  },
  "nbformat": 4,
  "nbformat_minor": 0
}